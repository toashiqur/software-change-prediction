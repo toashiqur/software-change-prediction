{
 "cells": [
  {
   "cell_type": "code",
   "execution_count": 1,
   "metadata": {
    "collapsed": true
   },
   "outputs": [],
   "source": [
    "from sklearn.model_selection import StratifiedShuffleSplit\n",
    "from sklearn.model_selection import StratifiedKFold\n",
    "from sklearn import tree\n",
    "from scipy import stats\n",
    "import numpy as np\n",
    "import pandas as pd\n",
    "from sklearn.metrics import confusion_matrix\n",
    "import itertools\n",
    "import matplotlib.pyplot as plt\n",
    "from sklearn import metrics"
   ]
  },
  {
   "cell_type": "code",
   "execution_count": 2,
   "metadata": {
    "collapsed": true
   },
   "outputs": [],
   "source": [
    "%matplotlib inline"
   ]
  },
  {
   "cell_type": "code",
   "execution_count": 3,
   "metadata": {
    "collapsed": true
   },
   "outputs": [],
   "source": [
    "# the change_in data in the last row has been generated manually using equation...next time do it during data extraction\n",
    "data_source_path = \"F:\\deep lerning project\\data\\FinalData\\d4.wordpress_phpbb23.label_appearance_density.csv\"\n",
    "\n",
    "# for slicing the necessary columns from the source file...directly related to source data columns\n",
    "label_col_start = 0\n",
    "feature_col_start = 8\n",
    "\n",
    "# I have many labels but here is the col that contains 'changed_ever_class'\n",
    "class_label_col = 2 # class is in col2\n",
    "\n",
    "#Optional\n",
    "n_folds = 10 #set value of k of k-fold"
   ]
  },
  {
   "cell_type": "code",
   "execution_count": 4,
   "metadata": {
    "collapsed": true
   },
   "outputs": [],
   "source": [
    "# Some configurations\n",
    "# set only one to true...\n",
    "select_model_based_on_error_rate = False\n",
    "select_model_based_on_auc = True\n",
    "#---------------------------------"
   ]
  },
  {
   "cell_type": "code",
   "execution_count": 5,
   "metadata": {
    "collapsed": true
   },
   "outputs": [],
   "source": [
    "def get_feature_and_label():\n",
    "    # read the data file\n",
    "    # return features and labels\n",
    "    \n",
    "    file_change_df = pd.read_csv(data_source_path)\n",
    "    \n",
    "    X = file_change_df.iloc[:,feature_col_start:]\n",
    "    #print(X.shape)\n",
    "    #print(X)\n",
    "    \n",
    "    y_all_labels = file_change_df.iloc[:,label_col_start:feature_col_start] # all available labels \n",
    "    #print(type(y_all_labels))\n",
    "    #print(y_all_labels)\n",
    "    y = y_all_labels.iloc[:,class_label_col] # take the manually created changed_in_release_inerval col only\n",
    "   # y = pd.Series.to_frame(y) # y is a series...convert it to dataframe again--- not necessary...series will do\n",
    "    #print(y.head())\n",
    "    #print(type(y))\n",
    "    \n",
    "    #print(y.shape)\n",
    "    #print(y)\n",
    "    \n",
    "    return X, y"
   ]
  },
  {
   "cell_type": "code",
   "execution_count": 6,
   "metadata": {
    "collapsed": true
   },
   "outputs": [],
   "source": [
    "def get_train_test_split(X, y, nsplits = 1, testSize = 0.2):\n",
    "\n",
    "    sss = StratifiedShuffleSplit(n_splits=nsplits, test_size=testSize)\n",
    "    \n",
    "    for train_index, test_index in sss.split(X, y):\n",
    "        X_train, X_test = X.iloc[train_index], X.iloc[test_index] # X.iloc[index] because its pandas dataframe.so..iloc\n",
    "        y_train, y_test = y.iloc[train_index], y.iloc[test_index]\n",
    "        \n",
    "    return X_train, y_train, X_test, y_test"
   ]
  },
  {
   "cell_type": "code",
   "execution_count": 7,
   "metadata": {
    "collapsed": true
   },
   "outputs": [],
   "source": [
    "def show_evaluation_error_report(eval_error_rates):\n",
    "    \n",
    "    eval_error_rate_avg = sum(eval_error_rates)/len(eval_error_rates)\n",
    "    model_std = np.std(eval_error_rates)\n",
    "    \n",
    "    print(\"Evaluation Errors:\", eval_error_rates)\n",
    "    print('Evaluation error rate average:', eval_error_rate_avg, '\\nModel\\'s standard deviation:', model_std)"
   ]
  },
  {
   "cell_type": "code",
   "execution_count": 8,
   "metadata": {
    "collapsed": true
   },
   "outputs": [],
   "source": [
    "def prediction(model, X, y):\n",
    "    y_predicted = model.predict(X)\n",
    "    error_rate = sum(y_predicted != y)/len(y_predicted)\n",
    "    #print(\"predicted:\", y_predicted)\n",
    "    \n",
    "    return y_predicted, error_rate"
   ]
  },
  {
   "cell_type": "code",
   "execution_count": 9,
   "metadata": {
    "collapsed": true
   },
   "outputs": [],
   "source": [
    "def get_auc(model, X, y):\n",
    "    # this auc calculation is different from the auc calculation for tensorflow DNNclassifier\n",
    "    \n",
    "    y = y.as_matrix() # convert series data to numpy array\n",
    "    \n",
    "    y_proba = model.predict_proba(X) # gives probability of each class\n",
    "    \n",
    "    #print(\"y_prob:\", y_proba.shape, \"val:\", y_proba)\n",
    "    \n",
    "    auc = metrics.roc_auc_score(y, y_proba[:,1]) #y_proba has 2cols..take only the score of the positive class..i.e. in index 1\n",
    "    #print(\"Auc:\", auc)\n",
    "    \n",
    "    '''\n",
    "    #This one also works but not needed\n",
    "    fpr, tpr, thresholds = metrics.roc_curve(y, y_proba[:,1])\n",
    "    auc2 = metrics.auc(fpr, tpr)\n",
    "    print(\"AUC2:\", auc2, \"fpr:\", fpr, \"tpr:\", tpr)\n",
    "    '''\n",
    "    \n",
    "    return auc"
   ]
  },
  {
   "cell_type": "code",
   "execution_count": 10,
   "metadata": {
    "collapsed": true
   },
   "outputs": [],
   "source": [
    "def create_model_evaluate_k_fold(X_train_0,y_train_0):\n",
    "\n",
    "    eval_error_rates = []\n",
    "    folding_session = 0\n",
    "    \n",
    "    min_error_rate = float(\"inf\")\n",
    "    max_auc = float(\"-inf\")\n",
    "    \n",
    "    # Now split the trainig data into train and evaluation sets\n",
    "    skf = StratifiedKFold(n_splits = n_folds)  # n_folds: global\n",
    "\n",
    "    for train_index, test_index in skf.split(X_train_0,y_train_0):\n",
    "        # total 10 folds\n",
    "\n",
    "        # 9 folds traning\n",
    "        X_train = X_train_0.iloc[train_index]\n",
    "        y_train = y_train_0.iloc[train_index]\n",
    "\n",
    "        # 1 fold testing\n",
    "        X_test = X_train_0.iloc[test_index]\n",
    "        y_test = y_train_0.iloc[test_index]\n",
    "\n",
    "        # create a new model\n",
    "        my_model = tree.DecisionTreeClassifier()\n",
    "\n",
    "        # train the model\n",
    "        my_model.fit(X_train, y_train)\n",
    "        \n",
    "        # evaluate the model\n",
    "        y_predicted, error_rate = prediction(my_model,X_test,y_test)\n",
    "        \n",
    "        # calculate auc\n",
    "        auc_evaluation = get_auc(my_model, X_test, y_test) # X_test, y_test are evaluation folds\n",
    "\n",
    "        eval_error_rates.append(error_rate)\n",
    "\n",
    "        #----\n",
    "        print('\\nFolding Session:', folding_session, \"AUC:\", auc_evaluation, \"Accuracy:\", 1-error_rate, 'Error_rate:', error_rate)\n",
    "        #----\n",
    "\n",
    "        if select_model_based_on_error_rate:\n",
    "            if error_rate < min_error_rate:\n",
    "                best_model = my_model # save the best model\n",
    "                min_error_rate = error_rate\n",
    "                print(\"Selecting model based on min_error_rate.\")\n",
    "            \n",
    "        if select_model_based_on_auc:\n",
    "            if auc_evaluation > max_auc:\n",
    "                best_model = my_model # save the best model\n",
    "                max_auc = auc_evaluation # update the max_auc\n",
    "                print(\"Selecting model based on max_auc.\")       \n",
    "\n",
    "        folding_session = folding_session + 1\n",
    "\n",
    "    return best_model, eval_error_rates"
   ]
  },
  {
   "cell_type": "code",
   "execution_count": 11,
   "metadata": {
    "collapsed": true
   },
   "outputs": [],
   "source": [
    "def calculate_performance_metrics(cnf_matrix):\n",
    "    \n",
    "    TP = cnf_matrix[1,1]\n",
    "    TN = cnf_matrix[0,0]\n",
    "    FP = cnf_matrix[0,1]\n",
    "    FN = cnf_matrix[1,0]\n",
    "    \n",
    "    \n",
    "    # Sensitivity, hit rate, recall, or true positive rate\n",
    "    TPR_recall = TP/(TP+FN) # Recall\n",
    "    # Specificity or true negative rate\n",
    "    TNR = TN/(TN+FP) # **\n",
    "    # Precision or positive predictive value\n",
    "    PPV_precision = TP/(TP+FP) # precision\n",
    "    # Negative predictive value\n",
    "    NPV = TN/(TN+FN) #**\n",
    "    # Fall out or false positive rate\n",
    "    FPR_false_positive = FP/(FP+TN)\n",
    "    # False negative rate\n",
    "    FNR_false_negative = FN/(TP+FN)\n",
    "    # False discovery rate\n",
    "    FDR = FP/(TP+FP) # **\n",
    "\n",
    "    # Overall accuracy\n",
    "    accuracy = (TP+TN)/(TP+FP+FN+TN)\n",
    "    f_measure = 2/((1.0/TPR_recall) + (1.0/PPV_precision)) #https://en.wikipedia.org/wiki/F1_score\n",
    "    \n",
    "    # ** some extra values are calculated but not returned\n",
    "    return TPR_recall, PPV_precision, FPR_false_positive, FNR_false_negative, accuracy, f_measure"
   ]
  },
  {
   "cell_type": "code",
   "execution_count": 12,
   "metadata": {
    "collapsed": true
   },
   "outputs": [],
   "source": [
    "def plot_confusion_matrix(cm, classes,\n",
    "                          normalize=False,\n",
    "                          title='Confusion matrix',\n",
    "                          cmap=plt.cm.Blues):\n",
    "    \"\"\"\n",
    "    This function prints and plots the confusion matrix.\n",
    "    Normalization can be applied by setting `normalize=True`.\n",
    "    \"\"\"\n",
    "    if normalize:\n",
    "        cm = cm.astype('float') / cm.sum(axis=1)[:, np.newaxis]\n",
    "        print(\"Normalized confusion matrix\")\n",
    "    else:\n",
    "        print('Confusion matrix, without normalization')\n",
    "\n",
    "    print(cm)\n",
    "\n",
    "    plt.imshow(cm, interpolation='nearest', cmap=cmap)\n",
    "    plt.title(title)\n",
    "    plt.colorbar()\n",
    "    tick_marks = np.arange(len(classes))\n",
    "    plt.xticks(tick_marks, classes, rotation=45)\n",
    "    plt.yticks(tick_marks, classes)\n",
    "\n",
    "    fmt = '.2f' if normalize else 'd'\n",
    "    thresh = cm.max() / 2.\n",
    "    for i, j in itertools.product(range(cm.shape[0]), range(cm.shape[1])):\n",
    "        plt.text(j, i, format(cm[i, j], fmt),\n",
    "                 horizontalalignment=\"center\",\n",
    "                 color=\"white\" if cm[i, j] > thresh else \"black\")\n",
    "\n",
    "    plt.tight_layout()\n",
    "    plt.ylabel('True label')\n",
    "    plt.xlabel('Predicted label')"
   ]
  },
  {
   "cell_type": "code",
   "execution_count": 13,
   "metadata": {
    "collapsed": true
   },
   "outputs": [],
   "source": [
    "def show_confusion_matrix(cnf_matrix, class_names):\n",
    "    # show cmap of confusion metrics\n",
    "    np.set_printoptions(precision=2) # settings for printing floating point values\n",
    "    \n",
    "    # Plot non-normalized confusion matrix\n",
    "    plt.figure()\n",
    "    plot_confusion_matrix(cnf_matrix, classes=class_names,\n",
    "                          title='Confusion matrix, without normalization')\n",
    "\n",
    "    # Plot normalized confusion matrix\n",
    "    plt.figure()\n",
    "    plot_confusion_matrix(cnf_matrix, classes=class_names, normalize=True,\n",
    "                          title='Normalized confusion matrix')\n",
    "\n",
    "    plt.show()"
   ]
  },
  {
   "cell_type": "code",
   "execution_count": 14,
   "metadata": {
    "collapsed": true
   },
   "outputs": [],
   "source": [
    "def main():\n",
    "    X, y = get_feature_and_label()\n",
    "    X_train_0, y_train_0, X_test_final, y_test_final = get_train_test_split(X,y) #get_train_test_split(X, y, nsplits = 1, testSize = 0.2)\n",
    "    \n",
    "    best_model, k_fold_eval_error_rates = create_model_evaluate_k_fold(X_train_0, y_train_0)\n",
    "    show_evaluation_error_report(k_fold_eval_error_rates)\n",
    "    \n",
    "    #predict using the best model\n",
    "    y_predicted, error_rate = prediction(best_model, X_test_final, y_test_final)\n",
    "    \n",
    "    auc_final = get_auc(best_model, X_test_final, y_test_final)\n",
    "    \n",
    "    print(\"\\nFinal Test>> AUC:\", auc_final, \"Accuracy:\", 1-error_rate, \"Final Error_rate:\", error_rate)\n",
    "    \n",
    "    cnf_matrix = confusion_matrix(y_test_final, y_predicted)\n",
    "    # Calculate performane metrics\n",
    "    TPR_recall, PPV_precision, FPR_false_positive, FNR_false_negative, accuracy, f_measure = calculate_performance_metrics(cnf_matrix)\n",
    "    \n",
    "    print(\"F-measure:\", f_measure, \"Accuracy:\",accuracy, \"Recall:\", TPR_recall, \"Precision:\", PPV_precision, \"False Positive Rate:\", FPR_false_positive, \"False Negative Rate:\", FNR_false_negative)\n",
    "    \n",
    "    \n",
    "    # show cmap of confusion metrics\n",
    "    class_names = ['0','1'] # class names in order.. 1st index for class whose label is 0, 2nd index for class whose label is 1......\n",
    "    show_confusion_matrix(cnf_matrix, class_names)\n",
    "    "
   ]
  },
  {
   "cell_type": "code",
   "execution_count": 15,
   "metadata": {},
   "outputs": [
    {
     "name": "stdout",
     "output_type": "stream",
     "text": [
      "\n",
      "Folding Session: 0 AUC: 0.67558686201 Accuracy: 0.833333333333 Error_rate: 0.166666666667\n",
      "Selecting model based on max_auc.\n",
      "\n",
      "Folding Session: 1 AUC: 0.692414081472 Accuracy: 0.831632653061 Error_rate: 0.168367346939\n",
      "Selecting model based on max_auc.\n",
      "\n",
      "Folding Session: 2 AUC: 0.688428405247 Accuracy: 0.84268707483 Error_rate: 0.15731292517\n",
      "\n",
      "Folding Session: 3 AUC: 0.696579340956 Accuracy: 0.849489795918 Error_rate: 0.150510204082\n",
      "Selecting model based on max_auc.\n",
      "\n",
      "Folding Session: 4 AUC: 0.723286320044 Accuracy: 0.850340136054 Error_rate: 0.149659863946\n",
      "Selecting model based on max_auc.\n",
      "\n",
      "Folding Session: 5 AUC: 0.702711975255 Accuracy: 0.839285714286 Error_rate: 0.160714285714\n",
      "\n",
      "Folding Session: 6 AUC: 0.738808210439 Accuracy: 0.860544217687 Error_rate: 0.139455782313\n",
      "Selecting model based on max_auc.\n",
      "\n",
      "Folding Session: 7 AUC: 0.708053907142 Accuracy: 0.855442176871 Error_rate: 0.144557823129\n",
      "\n",
      "Folding Session: 8 AUC: 0.678650498813 Accuracy: 0.852040816327 Error_rate: 0.147959183673\n",
      "\n",
      "Folding Session: 9 AUC: 0.732983816064 Accuracy: 0.850340136054 Error_rate: 0.149659863946\n",
      "Evaluation Errors: [0.16666666666666666, 0.1683673469387755, 0.15731292517006804, 0.15051020408163265, 0.14965986394557823, 0.16071428571428573, 0.13945578231292516, 0.14455782312925169, 0.14795918367346939, 0.14965986394557823]\n",
      "Evaluation error rate average: 0.153486394558 \n",
      "Model's standard deviation: 0.00898508193846\n",
      "\n",
      "Final Test>> AUC: 0.706732188968 Accuracy: 0.828911564626 Final Error_rate: 0.171088435374\n",
      "F-measure: 0.897409749133 Accuracy: 0.828911564626 Recall: 0.891410048622 Precision: 0.903490759754 False Positive Rate: 0.497881355932 False Negative Rate: 0.108589951378\n",
      "Confusion matrix, without normalization\n",
      "[[ 237  235]\n",
      " [ 268 2200]]\n",
      "Normalized confusion matrix\n",
      "[[ 0.5   0.5 ]\n",
      " [ 0.11  0.89]]\n"
     ]
    },
    {
     "data": {
      "image/png": "[encoded data removed]",
      "text/plain": [
       "<matplotlib.figure.Figure at 0x2aa434db00>"
      ]
     },
     "metadata": {},
     "output_type": "display_data"
    },
    {
     "data": {
      "image/png": "[encoded data removed]",
      "text/plain": [
       "<matplotlib.figure.Figure at 0x2aa4317940>"
      ]
     },
     "metadata": {},
     "output_type": "display_data"
    }
   ],
   "source": [
    "main()"
   ]
  },
  {
   "cell_type": "code",
   "execution_count": null,
   "metadata": {
    "collapsed": true
   },
   "outputs": [],
   "source": []
  }
 ],
 "metadata": {
  "kernelspec": {
   "display_name": "Python 3",
   "language": "python",
   "name": "python3"
  },
  "language_info": {
   "codemirror_mode": {
    "name": "ipython",
    "version": 3
   },
   "file_extension": ".py",
   "mimetype": "text/x-python",
   "name": "python",
   "nbconvert_exporter": "python",
   "pygments_lexer": "ipython3",
   "version": "3.5.4"
  }
 },
 "nbformat": 4,
 "nbformat_minor": 2
}
